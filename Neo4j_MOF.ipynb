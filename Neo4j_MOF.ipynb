{
  "nbformat": 4,
  "nbformat_minor": 0,
  "metadata": {
    "colab": {
      "provenance": [],
      "authorship_tag": "ABX9TyNKfOVJ67WAfDBDnIOuxx/F",
      "include_colab_link": true
    },
    "kernelspec": {
      "name": "python3",
      "display_name": "Python 3"
    },
    "language_info": {
      "name": "python"
    }
  },
  "cells": [
    {
      "cell_type": "markdown",
      "metadata": {
        "id": "view-in-github",
        "colab_type": "text"
      },
      "source": [
        "<a href=\"https://colab.research.google.com/github/MehrdadJalali-AI/GraphMOF-AI/blob/main/Neo4j_MOF.ipynb\" target=\"_parent\"><img src=\"https://colab.research.google.com/assets/colab-badge.svg\" alt=\"Open In Colab\"/></a>"
      ]
    },
    {
      "cell_type": "code",
      "execution_count": 2,
      "metadata": {
        "colab": {
          "base_uri": "https://localhost:8080/"
        },
        "id": "vPeaBTs_4-KM",
        "outputId": "12e1ab04-09eb-4fa8-90d9-e99643aa1e9c"
      },
      "outputs": [
        {
          "output_type": "stream",
          "name": "stdout",
          "text": [
            "Collecting neo4j\n",
            "  Downloading neo4j-5.28.1-py3-none-any.whl.metadata (5.9 kB)\n",
            "Requirement already satisfied: pytz in /usr/local/lib/python3.11/dist-packages (from neo4j) (2025.1)\n",
            "Downloading neo4j-5.28.1-py3-none-any.whl (312 kB)\n",
            "\u001b[?25l   \u001b[90m━━━━━━━━━━━━━━━━━━━━━━━━━━━━━━━━━━━━━━━━\u001b[0m \u001b[32m0.0/312.3 kB\u001b[0m \u001b[31m?\u001b[0m eta \u001b[36m-:--:--\u001b[0m\r\u001b[2K   \u001b[91m━━━━━━━━━━━━━━━━━━━━━━━━━━━━━━━━━━━━━━━\u001b[0m\u001b[90m╺\u001b[0m \u001b[32m307.2/312.3 kB\u001b[0m \u001b[31m10.1 MB/s\u001b[0m eta \u001b[36m0:00:01\u001b[0m\r\u001b[2K   \u001b[90m━━━━━━━━━━━━━━━━━━━━━━━━━━━━━━━━━━━━━━━━\u001b[0m \u001b[32m312.3/312.3 kB\u001b[0m \u001b[31m6.9 MB/s\u001b[0m eta \u001b[36m0:00:00\u001b[0m\n",
            "\u001b[?25hInstalling collected packages: neo4j\n",
            "Successfully installed neo4j-5.28.1\n"
          ]
        }
      ],
      "source": [
        "pip install neo4j\n"
      ]
    },
    {
      "cell_type": "code",
      "source": [
        "from neo4j import GraphDatabase\n",
        "\n",
        "# Neo4j connection details\n",
        "URI = \"bolt://localhost:7474\"  # Change if your Neo4j is on another server\n",
        "USERNAME = \"neo4j\"\n",
        "PASSWORD = \"12345678\"  # Change to your actual password\n",
        "\n",
        "class KnowledgeGraph:\n",
        "    def __init__(self, uri, user, password):\n",
        "        self.driver = GraphDatabase.driver(uri, auth=(user, password))\n",
        "\n",
        "    def close(self):\n",
        "        self.driver.close()\n",
        "\n",
        "    def create_nodes_and_relationships(self):\n",
        "        with self.driver.session() as session:\n",
        "            session.run(\"MATCH (n) DETACH DELETE n\")  # Clear existing graph\n",
        "\n",
        "            # Creating sample nodes\n",
        "            session.run(\"CREATE (a:Person {name: 'Alice'})\")\n",
        "            session.run(\"CREATE (b:Person {name: 'Bob'})\")\n",
        "            session.run(\"CREATE (c:Company {name: 'TechCorp'})\")\n",
        "\n",
        "            # Creating relationships\n",
        "            session.run(\"\"\"\n",
        "                MATCH (a:Person {name: 'Alice'}), (b:Person {name: 'Bob'})\n",
        "                CREATE (a)-[:KNOWS]->(b)\n",
        "            \"\"\")\n",
        "            session.run(\"\"\"\n",
        "                MATCH (a:Person {name: 'Alice'}), (c:Company {name: 'TechCorp'})\n",
        "                CREATE (a)-[:WORKS_FOR]->(c)\n",
        "            \"\"\")\n",
        "\n",
        "    def query_graph(self):\n",
        "        with self.driver.session() as session:\n",
        "            result = session.run(\"MATCH (a)-[r]->(b) RETURN a.name, type(r), b.name\")\n",
        "            for record in result:\n",
        "                print(f\"{record['a.name']} -[{record['type(r)']}]-> {record['b.name']}\")\n",
        "\n",
        "# Run the script\n",
        "if __name__ == \"__main__\":\n",
        "    kg = KnowledgeGraph(URI, USERNAME, PASSWORD)\n",
        "    kg.create_nodes_and_relationships()\n",
        "    print(\"Knowledge Graph Created:\")\n",
        "    kg.query_graph()\n",
        "    kg.close()\n"
      ],
      "metadata": {
        "colab": {
          "base_uri": "https://localhost:8080/",
          "height": 385
        },
        "id": "dChdseeC5TGb",
        "outputId": "6783f445-ecb0-443f-ab6b-97e7915162d1"
      },
      "execution_count": 1,
      "outputs": [
        {
          "output_type": "error",
          "ename": "ModuleNotFoundError",
          "evalue": "No module named 'neo4j'",
          "traceback": [
            "\u001b[0;31m---------------------------------------------------------------------------\u001b[0m",
            "\u001b[0;31mModuleNotFoundError\u001b[0m                       Traceback (most recent call last)",
            "\u001b[0;32m<ipython-input-1-527cd20e250c>\u001b[0m in \u001b[0;36m<cell line: 0>\u001b[0;34m()\u001b[0m\n\u001b[0;32m----> 1\u001b[0;31m \u001b[0;32mfrom\u001b[0m \u001b[0mneo4j\u001b[0m \u001b[0;32mimport\u001b[0m \u001b[0mGraphDatabase\u001b[0m\u001b[0;34m\u001b[0m\u001b[0;34m\u001b[0m\u001b[0m\n\u001b[0m\u001b[1;32m      2\u001b[0m \u001b[0;34m\u001b[0m\u001b[0m\n\u001b[1;32m      3\u001b[0m \u001b[0;31m# Neo4j connection details\u001b[0m\u001b[0;34m\u001b[0m\u001b[0;34m\u001b[0m\u001b[0m\n\u001b[1;32m      4\u001b[0m \u001b[0mURI\u001b[0m \u001b[0;34m=\u001b[0m \u001b[0;34m\"bolt://localhost:7474\"\u001b[0m  \u001b[0;31m# Change if your Neo4j is on another server\u001b[0m\u001b[0;34m\u001b[0m\u001b[0;34m\u001b[0m\u001b[0m\n\u001b[1;32m      5\u001b[0m \u001b[0mUSERNAME\u001b[0m \u001b[0;34m=\u001b[0m \u001b[0;34m\"neo4j\"\u001b[0m\u001b[0;34m\u001b[0m\u001b[0;34m\u001b[0m\u001b[0m\n",
            "\u001b[0;31mModuleNotFoundError\u001b[0m: No module named 'neo4j'",
            "",
            "\u001b[0;31m---------------------------------------------------------------------------\u001b[0;32m\nNOTE: If your import is failing due to a missing package, you can\nmanually install dependencies using either !pip or !apt.\n\nTo view examples of installing some common dependencies, click the\n\"Open Examples\" button below.\n\u001b[0;31m---------------------------------------------------------------------------\u001b[0m\n"
          ],
          "errorDetails": {
            "actions": [
              {
                "action": "open_url",
                "actionText": "Open Examples",
                "url": "/notebooks/snippets/importing_libraries.ipynb"
              }
            ]
          }
        }
      ]
    },
    {
      "cell_type": "code",
      "source": [
        "from py2neo import Graph, Node, Relationship\n",
        "import pandas as pd\n",
        "\n",
        "# Connect to Neo4j\n",
        "graph = Graph(\"bolt://localhost:7687\", auth=(\"neo4j\", \"password\"))\n",
        "\n",
        "# Load MOF dataset\n",
        "file_path = \"MOF.csv\"\n",
        "mof_data = pd.read_csv(file_path)\n",
        "\n",
        "# Clear existing data\n",
        "graph.delete_all()\n",
        "\n",
        "# Create MOF nodes and relationships\n",
        "for _, row in mof_data.iterrows():\n",
        "    mof_node = Node(\"MOF\", name=row[\"Refcode\"])\n",
        "\n",
        "    # Metal Ion Node\n",
        "    if pd.notna(row[\"metals\"]):\n",
        "        metal_node = Node(\"Metal\", name=row[\"metals\"])\n",
        "        graph.merge(metal_node, \"Metal\", \"name\")\n",
        "        graph.create(Relationship(mof_node, \"HAS_METAL\", metal_node))\n",
        "\n",
        "    # Organic Linker Node\n",
        "    if pd.notna(row[\"SMILES\"]):\n",
        "        linker_node = Node(\"Linker\", smiles=row[\"SMILES\"])\n",
        "        graph.merge(linker_node, \"Linker\", \"smiles\")\n",
        "        graph.create(Relationship(mof_node, \"HAS_LINKER\", linker_node))\n",
        "\n",
        "    # Structural Properties\n",
        "    if pd.notna(row[\"pld (A)\"]):\n",
        "        pld_node = Node(\"Property\", name=\"PLD\", value=float(row[\"pld (A)\"]))\n",
        "        graph.create(pld_node)\n",
        "        graph.create(Relationship(mof_node, \"HAS_PROPERTY\", pld_node))\n",
        "\n",
        "    if pd.notna(row[\"asa (A^2)\"]):\n",
        "        sa_node = Node(\"Property\", name=\"Surface Area\", value=float(row[\"asa (A^2)\"]))\n",
        "        graph.create(sa_node)\n",
        "        graph.create(Relationship(mof_node, \"HAS_PROPERTY\", sa_node))\n",
        "\n",
        "    if pd.notna(row[\"void_fraction\"]):\n",
        "        vf_node = Node(\"Property\", name=\"Void Fraction\", value=float(row[\"void_fraction\"]))\n",
        "        graph.create(vf_node)\n",
        "        graph.create(Relationship(mof_node, \"HAS_PROPERTY\", vf_node))\n",
        "\n",
        "    graph.create(mof_node)\n",
        "\n",
        "print(\"MOF data successfully stored in Neo4j.\")\n"
      ],
      "metadata": {
        "id": "MmWQJckJTto6"
      },
      "execution_count": null,
      "outputs": []
    },
    {
      "cell_type": "code",
      "source": [
        "neo4j status\n"
      ],
      "metadata": {
        "colab": {
          "base_uri": "https://localhost:8080/",
          "height": 106
        },
        "id": "IEPMLpma5jga",
        "outputId": "8bd40df4-1f40-4231-bc82-7e1addab6094"
      },
      "execution_count": null,
      "outputs": [
        {
          "output_type": "error",
          "ename": "SyntaxError",
          "evalue": "invalid syntax (<ipython-input-3-9ac429d5d06b>, line 1)",
          "traceback": [
            "\u001b[0;36m  File \u001b[0;32m\"<ipython-input-3-9ac429d5d06b>\"\u001b[0;36m, line \u001b[0;32m1\u001b[0m\n\u001b[0;31m    neo4j status\u001b[0m\n\u001b[0m          ^\u001b[0m\n\u001b[0;31mSyntaxError\u001b[0m\u001b[0;31m:\u001b[0m invalid syntax\n"
          ]
        }
      ]
    }
  ]
}