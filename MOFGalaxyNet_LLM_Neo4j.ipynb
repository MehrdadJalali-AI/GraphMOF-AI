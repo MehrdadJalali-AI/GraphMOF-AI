{
  "cells": [
    {
      "cell_type": "markdown",
      "metadata": {
        "id": "view-in-github",
        "colab_type": "text"
      },
      "source": [
        "<a href=\"https://colab.research.google.com/github/MehrdadJalali-AI/GraphMOF-AI/blob/main/MOFGalaxyNet_LLM_Neo4j.ipynb\" target=\"_parent\"><img src=\"https://colab.research.google.com/assets/colab-badge.svg\" alt=\"Open In Colab\"/></a>"
      ]
    },
    {
      "cell_type": "markdown",
      "source": [
        "# 🚀 AI-Powered MOF Discovery with MOFGalaxyNet + LLM + Neo4j\n",
        "\n",
        "## 🔹 Problem Statement\n",
        "Researchers in **materials science** need to find **optimal MOFs** for **gas storage, carbon capture, and industrial applications**. However, predicting **adsorption properties, stability, and applications** is challenging.\n",
        "\n",
        "This system uses **MOFGalaxyNet** to:\n",
        "✅ Store MOFs in **Neo4j** as a graph database  \n",
        "✅ Train **Graph Neural Networks (GNNs)** to learn MOF embeddings  \n",
        "✅ Use **GPT-4 (LLM)** to provide AI-driven MOF insights  \n",
        "✅ Predict **missing properties** and **suggest applications**  \n",
        "\n",
        "---\n",
        "\n",
        "## 🔹 Step 1: Storing MOFs in Neo4j\n",
        "\n",
        "Each **MOF** is stored as a **node** in **Neo4j**, with **edges** showing structural similarities.\n",
        "\n",
        "### 📌 Example MOF Data\n",
        "| MOF      | Adsorption | Stability |\n",
        "|----------|------------|-----------|\n",
        "| MOF-5    | 0.80       | 0.90      |\n",
        "| UiO-66   | 0.75       | 0.95      |\n",
        "| HKUST-1  | 0.85       | 0.80      |\n",
        "\n",
        "**Example Neo4j Query to Find Similar MOFs**\n",
        "```cypher\n",
        "MATCH (m:MOF)-[:SIMILAR_TO]-(n:MOF) RETURN m.name, n.name, m.adsorption, m.stability\n",
        "\n",
        "**Expected Result**\n",
        "\n",
        "MOF-5 → UiO-66 (Adsorption: 0.80, Stability: 0.90)\n",
        "UiO-66 → ZIF-8 (Adsorption: 0.75, Stability: 0.95)\n",
        "HKUST-1 → MIL-101 (Adsorption: 0.85, Stability: 0.80)\n",
        "\n",
        "\n"
      ],
      "metadata": {
        "id": "e1xxzbuE9-Qk"
      }
    },
    {
      "cell_type": "code",
      "source": [],
      "metadata": {
        "id": "Jrq6swan_4PJ"
      },
      "execution_count": null,
      "outputs": []
    },
    {
      "cell_type": "markdown",
      "source": [
        "## 🔹 Step 2: Learning MOF Representations with GNN\n",
        "\n",
        "A **Graph Neural Network (GNN)** learns **MOF embeddings** from the adjacency matrix.\n",
        "\n",
        "### 🔹 How It Works:\n",
        "1️⃣ Each MOF is represented as a **node** in the graph.  \n",
        "2️⃣ **Edges** connect MOFs based on **structural similarity**.  \n",
        "3️⃣ **GNN processes the graph** to generate **MOF embeddings**.  \n",
        "4️⃣ These embeddings **capture hidden patterns** in MOF relationships.  \n",
        "\n",
        "---\n",
        "\n",
        "### 📌 Example MOF Adjacency Matrix\n",
        "| MOF      | MOF-5 | UiO-66 | HKUST-1 | MIL-101 | ZIF-8 |\n",
        "|----------|-------|--------|---------|---------|-------|\n",
        "| MOF-5    | 1     | 1      | 1       | 0       | 0     |\n",
        "| UiO-66   | 1     | 1      | 0       | 0       | 1     |\n",
        "| HKUST-1  | 1     | 0      | 1       | 1       | 0     |\n",
        "| MIL-101  | 0     | 0      | 1       | 1       | 0     |\n",
        "| ZIF-8    | 0     | 1      | 0       | 0       | 1     |\n",
        "\n",
        "📌 **This adjacency matrix represents MOFs and their connectivity.**  \n",
        "\n",
        "---\n",
        "\n",
        "### 🔹 Example GNN Output (MOF Embeddings)\n"
      ],
      "metadata": {
        "id": "Of0cECL_-zJt"
      }
    },
    {
      "cell_type": "code",
      "source": [],
      "metadata": {
        "id": "KdXvVqlZ_U11"
      },
      "execution_count": null,
      "outputs": []
    },
    {
      "cell_type": "markdown",
      "source": [
        "MOF-5 → [0.14, -0.25, 0.78, 0.62] UiO-66 → [0.18, -0.21, 0.74, 0.60] HKUST-1 → [0.12, -0.29, 0.80, 0.58] MIL-101 → [0.15, -0.30, 0.79, 0.61] ZIF-8 → [0.20, -0.22, 0.76, 0.63]\n",
        "\n",
        "📌 **These embeddings capture MOF relationships** and can be used for:  \n",
        "✅ **Predicting missing MOF properties**  \n",
        "✅ **Finding similar MOFs**  \n",
        "✅ **Providing insights for MOF applications**  \n",
        "\n",
        "---\n",
        "\n",
        "### 🔹 Key Takeaways\n",
        "- **GNN extracts features from the MOF network** to create meaningful representations.  \n",
        "- **Similar MOFs will have similar embeddings**, even if some properties are unknown.  \n",
        "- **These embeddings are later used by LLM (GPT-4) for predicting MOF applications.**  \n"
      ],
      "metadata": {
        "id": "rWsoMp_f-5nJ"
      }
    },
    {
      "cell_type": "code",
      "execution_count": null,
      "metadata": {
        "id": "VYdxtUy499r3"
      },
      "outputs": [],
      "source": [
        "!pip install neo4j torch torch_geometric networkx openai"
      ]
    },
    {
      "cell_type": "markdown",
      "source": [
        "## 🔹 Step 3: Predicting MOF Properties Using GNN\n",
        "\n",
        "A **Graph Neural Network (GNN)** can be used to **predict missing MOF properties**, such as **adsorption capacity and stability**, based on learned embeddings.\n",
        "\n",
        "### 🔹 How It Works:\n",
        "1️⃣ **Train the GNN** on known MOF properties.  \n",
        "2️⃣ **Use the trained model** to predict missing values for new MOFs.  \n",
        "3️⃣ **Find similar MOFs** with existing data and use them for inference.  \n",
        "4️⃣ **Store predictions** for further AI-driven insights.  \n",
        "\n",
        "---\n",
        "\n",
        "### 📌 Example Scenario:\n",
        "A **new MOF** (**NewMOF-X**) is discovered, but its **stability value is missing**.  \n",
        "Using **GNN**, we can predict the missing stability based on learned patterns.\n",
        "\n",
        "#### 🔹 Input Features (Known & Unknown Values)\n",
        "\n",
        "\n",
        "NewMOF-X → Adsorption: 0.82, Stability: ??? (To be predicted)"
      ],
      "metadata": {
        "id": "41psJNd---F3"
      }
    },
    {
      "cell_type": "code",
      "execution_count": null,
      "metadata": {
        "id": "tVqbuEvI99r3"
      },
      "outputs": [],
      "source": [
        "import torch\n",
        "import networkx as nx\n",
        "import openai\n",
        "from neo4j import GraphDatabase\n",
        "from torch_geometric.data import Data\n",
        "from torch_geometric.nn import GCNConv\n",
        "import numpy as np"
      ]
    },
    {
      "cell_type": "markdown",
      "source": [
        "\n",
        "---\n",
        "\n",
        "### 🔹 Example Predicted Properties for Multiple MOFs\n",
        "| MOF        | Adsorption | Stability (Predicted) |\n",
        "|------------|------------|-----------------------|\n",
        "| MOF-5      | 0.80       | 0.90                  |\n",
        "| UiO-66     | 0.75       | 0.95                  |\n",
        "| HKUST-1    | 0.85       | 0.80                  |\n",
        "| NewMOF-X   | 0.82       | **0.87 (Predicted)**  |\n",
        "\n",
        "📌 **Now, we have a complete dataset with inferred MOF properties!**  \n",
        "\n",
        "---\n",
        "\n",
        "### 🔹 Why is This Useful?\n",
        "✅ **Predicts missing adsorption or stability values for new MOFs**  \n",
        "✅ **Helps researchers understand potential MOF performance**  \n",
        "✅ **Can be extended to predict adsorption for specific gases (CO₂, H₂, CH₄, etc.)**  \n",
        "✅ **Supports AI-driven discovery of novel MOF applications**  \n",
        "\n",
        "---\n",
        "\n",
        "### 🔹 Next Step\n",
        "Now that we have **predicted MOF properties**, we can use **GPT-4 (LLM)** to generate insights about possible applications of these MOFs.\n",
        "\n",
        "📌 **Proceed to Step 4 to see how AI-powered insights help predict MOF applications!**\n"
      ],
      "metadata": {
        "id": "hxEqj5nr_ME4"
      }
    },
    {
      "cell_type": "code",
      "execution_count": null,
      "metadata": {
        "id": "PMVwqYQ_99r4"
      },
      "outputs": [],
      "source": [
        "# Connect to Neo4j (Replace with your credentials)\n",
        "NEO4J_URI = \"bolt://localhost:7687\"\n",
        "USERNAME = \"neo4j\"\n",
        "PASSWORD = \"your_password\"\n",
        "driver = GraphDatabase.driver(NEO4J_URI, auth=(USERNAME, PASSWORD))\n",
        "\n",
        "# Function to create MOF Graph\n",
        "def create_mof_graph(tx):\n",
        "    mof_data = [\n",
        "        (\"MOF-5\", 0.8, 0.9),\n",
        "        (\"UiO-66\", 0.75, 0.95),\n",
        "        (\"HKUST-1\", 0.85, 0.8),\n",
        "        (\"MIL-101\", 0.9, 0.88),\n",
        "        (\"ZIF-8\", 0.7, 0.92)\n",
        "    ]\n",
        "\n",
        "    for mof, adsorption, stability in mof_data:\n",
        "        tx.run(\"\"\"\n",
        "        MERGE (m:MOF {name: $name})\n",
        "        SET m.adsorption = $adsorption, m.stability = $stability\n",
        "        \"\"\", name=mof, adsorption=adsorption, stability=stability)\n",
        "\n",
        "    edges = [(\"MOF-5\", \"UiO-66\"), (\"MOF-5\", \"HKUST-1\"), (\"HKUST-1\", \"MIL-101\"), (\"UiO-66\", \"ZIF-8\")]\n",
        "    for mof1, mof2 in edges:\n",
        "        tx.run(\"\"\"\n",
        "        MATCH (m1:MOF {name: $mof1}), (m2:MOF {name: $mof2})\n",
        "        MERGE (m1)-[:SIMILAR_TO]->(m2)\n",
        "        \"\"\", mof1=mof1, mof2=mof2)\n",
        "\n",
        "with driver.session() as session:\n",
        "    session.write_transaction(create_mof_graph)\n",
        "print(\"✅ MOF Graph Created in Neo4j!\")"
      ]
    },
    {
      "cell_type": "markdown",
      "source": [
        "## 🔹 Step 4: Using GPT-4 (LLM) for AI-Powered MOF Insights\n",
        "\n",
        "Once we have **MOF embeddings** and **predicted properties**, we can use **GPT-4 (LLM)** to **analyze and suggest potential applications** for MOFs.\n",
        "\n",
        "### 🔹 How It Works:\n",
        "1️⃣ **GNN learns MOF embeddings** based on graph relationships.  \n",
        "2️⃣ **Missing properties are predicted** using AI-based inference.  \n",
        "3️⃣ **GPT-4 receives MOF embeddings & properties** as input.  \n",
        "4️⃣ **GPT-4 generates AI-powered insights** about MOF applications.  \n",
        "\n",
        "---\n",
        "\n",
        "### 📌 Example Scenario:\n",
        "A **new MOF (NewMOF-X)** was predicted to have **adsorption: 0.82** and **stability: 0.87**.  \n",
        "Now, we ask **GPT-4** to suggest real-world applications based on these properties.\n",
        "\n",
        "#### 🔹 Example Input to GPT-4\n"
      ],
      "metadata": {
        "id": "607em_Gf_YMh"
      }
    },
    {
      "cell_type": "code",
      "execution_count": null,
      "metadata": {
        "id": "swTzGLi_99r4"
      },
      "outputs": [],
      "source": [
        "def create_mof_networkx():\n",
        "    G = nx.Graph()\n",
        "    mof_nodes = [\"MOF-5\", \"UiO-66\", \"HKUST-1\", \"MIL-101\", \"ZIF-8\"]\n",
        "    for node in mof_nodes:\n",
        "        G.add_node(node, adsorption=torch.rand(1).item(), stability=torch.rand(1).item())\n",
        "    edges = [(\"MOF-5\", \"UiO-66\"), (\"MOF-5\", \"HKUST-1\"), (\"HKUST-1\", \"MIL-101\"), (\"UiO-66\", \"ZIF-8\")]\n",
        "    G.add_edges_from(edges)\n",
        "    return G\n",
        "\n",
        "def graph_to_pyg(G):\n",
        "    node_mapping = {node: i for i, node in enumerate(G.nodes)}\n",
        "    edge_index = torch.tensor([[node_mapping[u], node_mapping[v]] for u, v in G.edges], dtype=torch.long).t().contiguous()\n",
        "    features = torch.tensor([[G.nodes[node][\"adsorption\"], G.nodes[node][\"stability\"]] for node in G.nodes], dtype=torch.float)\n",
        "    return Data(x=features, edge_index=edge_index)"
      ]
    },
    {
      "cell_type": "markdown",
      "source": [
        "\n",
        "---\n",
        "\n",
        "### 🔹 Example AI-Generated Insights for Multiple MOFs\n",
        "| MOF        | Adsorption | Stability | Predicted Application          |\n",
        "|------------|------------|-----------|--------------------------------|\n",
        "| MOF-5      | 0.80       | 0.90      | Carbon capture                 |\n",
        "| UiO-66     | 0.75       | 0.95      | Hydrogen storage               |\n",
        "| HKUST-1    | 0.85       | 0.80      | Water adsorption               |\n",
        "| NewMOF-X   | 0.82       | 0.87      | **Hydrogen storage, CO₂ capture** |\n",
        "\n",
        "📌 **Now, we have AI-powered insights on MOF applications!**  \n",
        "\n",
        "---\n",
        "\n",
        "### 🔹 Why is This Useful?\n",
        "✅ **AI provides new MOF applications without extensive lab testing**  \n",
        "✅ **Researchers can focus on promising MOFs based on AI predictions**  \n",
        "✅ **Speeds up MOF discovery for real-world energy and environmental applications**  \n",
        "\n",
        "---\n",
        "\n",
        "### 🔹 Next Step\n",
        "Now that we have **AI-generated MOF applications**, we can **store these insights in Neo4j** for easy **searching and querying**.\n",
        "\n",
        "📌 **Proceed to Step 5 to store and query AI-powered MOF predictions in Neo4j!**\n"
      ],
      "metadata": {
        "id": "nlY_VD9I_cGp"
      }
    },
    {
      "cell_type": "code",
      "execution_count": null,
      "metadata": {
        "id": "IXDMTNoS99r4"
      },
      "outputs": [],
      "source": [
        "class MOFGraphGNN(torch.nn.Module):\n",
        "    def __init__(self, in_channels, hidden_channels, out_channels):\n",
        "        super(MOFGraphGNN, self).__init__()\n",
        "        self.conv1 = GCNConv(in_channels, hidden_channels)\n",
        "        self.conv2 = GCNConv(hidden_channels, out_channels)\n",
        "\n",
        "    def forward(self, x, edge_index):\n",
        "        x = self.conv1(x, edge_index).relu()\n",
        "        x = self.conv2(x, edge_index)\n",
        "        return x\n",
        "\n",
        "def train_gnn(data):\n",
        "    model = MOFGraphGNN(in_channels=2, hidden_channels=16, out_channels=4)\n",
        "    optimizer = torch.optim.Adam(model.parameters(), lr=0.01)\n",
        "    loss_fn = torch.nn.MSELoss()\n",
        "    for epoch in range(200):\n",
        "        optimizer.zero_grad()\n",
        "        out = model(data.x, data.edge_index)\n",
        "        loss = loss_fn(out, data.x)\n",
        "        loss.backward()\n",
        "        optimizer.step()\n",
        "    return model, out\n",
        "\n",
        "G = create_mof_networkx()\n",
        "data = graph_to_pyg(G)\n",
        "model, embeddings = train_gnn(data)\n",
        "print(\"✅ GNN Training Complete! Extracted Embeddings:\", embeddings.detach().numpy())"
      ]
    },
    {
      "cell_type": "markdown",
      "source": [
        "## 🔹 Step 5: Storing Predictions in Neo4j\n",
        "\n",
        "Now that we have **predicted MOF properties and AI-generated applications**, we will **store them in Neo4j** to enable easy **searching, querying, and retrieval**.\n",
        "\n",
        "---\n",
        "\n",
        "### 🔹 How It Works:\n",
        "1️⃣ **MOFs are stored as nodes in Neo4j** with their adsorption, stability, and AI-predicted applications.  \n",
        "2️⃣ **GNN-predicted values** are added for new MOFs.  \n",
        "3️⃣ **GPT-4 insights** on MOF applications are stored.  \n",
        "4️⃣ **Neo4j queries** can now retrieve MOFs based on adsorption, stability, or applications.  \n",
        "\n",
        "---\n",
        "\n",
        "### 📌 Example: Store Predicted MOF Properties & Applications in Neo4j\n",
        "\n",
        "We use the **Cypher query language** to insert and update MOF data.\n",
        "\n",
        "```cypher\n",
        "MERGE (m:MOF {name: 'NewMOF-X'})\n",
        "SET m.adsorption = 0.82,\n",
        "    m.stability = 0.87,\n",
        "    m.application = 'Hydrogen Storage, CO₂ Capture'\n"
      ],
      "metadata": {
        "id": "aZG4TtBG_jmJ"
      }
    },
    {
      "cell_type": "code",
      "execution_count": null,
      "metadata": {
        "id": "4TeC4s6c99r5"
      },
      "outputs": [],
      "source": [
        "openai.api_key = \"YOUR_OPENAI_API_KEY\"\n",
        "\n",
        "def llm_mof_insights(embeddings, mof_names):\n",
        "    insights = {}\n",
        "    for i, mof in enumerate(mof_names):\n",
        "        embedding_str = \", \".join([f\"{v:.4f}\" for v in embeddings[i].tolist()])\n",
        "        response = openai.ChatCompletion.create(\n",
        "            model=\"gpt-4\",\n",
        "            messages=[{\"role\": \"user\", \"content\": f\"Insights on {mof} with embedding {embedding_str}\"}]\n",
        "        )\n",
        "        insights[mof] = response[\"choices\"][0][\"message\"][\"content\"]\n",
        "    return insights\n",
        "\n",
        "mof_names = list(G.nodes)\n",
        "insights = llm_mof_insights(embeddings.detach().numpy(), mof_names)\n",
        "print(insights)"
      ]
    },
    {
      "cell_type": "markdown",
      "source": [
        "### 📌 Example: Query MOFs for Hydrogen Storage\n",
        "\n",
        "Once the data is in **Neo4j**, we can easily retrieve **MOFs suited for hydrogen storage**.\n",
        "\n",
        "#### 🔹 **Cypher Query to Retrieve MOFs for Hydrogen Storage**\n",
        "```cypher\n",
        "MATCH (m:MOF)\n",
        "WHERE m.application CONTAINS \"Hydrogen Storage\"\n",
        "RETURN m.name, m.adsorption, m.stability, m.application\n"
      ],
      "metadata": {
        "id": "LkvtD_sf_86b"
      }
    },
    {
      "cell_type": "markdown",
      "source": [
        "#### 🔹 **Expected Query Output**\n",
        "| MOF        | Adsorption | Stability | Application                     |\n",
        "|------------|------------|-----------|---------------------------------|\n",
        "| UiO-66     | 0.75       | 0.95      | Hydrogen Storage               |\n",
        "| NewMOF-X   | 0.82       | 0.87      | Hydrogen Storage, CO₂ Capture  |\n",
        "\n",
        "📌 **Now, researchers can query MOFs for specific applications instantly!**  \n"
      ],
      "metadata": {
        "id": "oTt66Zu1_7iQ"
      }
    }
  ],
  "metadata": {
    "colab": {
      "provenance": [],
      "include_colab_link": true
    }
  },
  "nbformat": 4,
  "nbformat_minor": 0
}